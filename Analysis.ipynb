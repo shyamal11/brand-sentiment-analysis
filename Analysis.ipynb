{
 "cells": [
  {
   "cell_type": "code",
   "execution_count": null,
   "metadata": {},
   "outputs": [],
   "source": [
    "# Load data from MySQL to perform exploratory data analysis\n",
    "import settings\n",
    "import mysql.connector\n",
    "import pandas as pd\n",
    "import time\n",
    "\n",
    "import seaborn as sns\n",
    "import matplotlib.pyplot as plt\n",
    "import matplotlib as mpl\n",
    "\n",
    "\n",
    "db_connection = mysql.connector.connect(\n",
    "    host=\"localhost\",\n",
    "    user=\"root\",\n",
    "    passwd=\"password\",\n",
    "    database=\"TwitterDB\",\n",
    "    charset = 'utf8'\n",
    ")"
   ]
  },
  {
   "cell_type": "code",
   "execution_count": null,
   "metadata": {},
   "outputs": [],
   "source": [
    "# Load data from MySQL\n",
    "df = pd.read_sql('SELECT id_str, text, created_at, polarity, user_location FROM {}'.format(settings.TABLE_NAME), con=db_connection)\n",
    "# UTC for date time at default\n",
    "df['created_at'] = pd.to_datetime(df['created_at'])\n",
    "print(\"Airbnb Negative Tweets Monitor: \")\n",
    "for index, tweets in df[df['polarity'] == -1].iterrows():\n",
    "    print(\"  \" +str(tweets[2]) + \"  \" + tweets[1])\n",
    "\n",
    "\n",
    "# Clean and transform data to enable time series\n",
    "result = df.groupby([pd.Grouper(key='created_at', freq='10min'), 'polarity']).count() \\\n",
    "        .unstack(fill_value=0).stack().reset_index()\n",
    "result['created_at'] = pd.to_datetime(result['created_at']).apply(lambda x: x.strftime('%m-%d %H:%M'))\n",
    "\n",
    "\n",
    "# Plot Line Chart for monitoring brand awareness on Twitter\n",
    "mpl.rcParams['figure.dpi']= 200\n",
    "plt.figure(figsize=(16, 6))\n",
    "sns.set(style=\"darkgrid\")\n",
    "ax = sns.lineplot(x = \"created_at\" ,y=\"id_str\", hue='polarity', data=result,\\\n",
    "                  palette=sns.color_palette([\"#FF5A5F\",\"#484848\", \"#767676\"]))\n",
    "ax.set(xlabel='Time Series in UTC', ylabel=\"Number of '{}' mentions\".format(settings.TRACK_WORDS[0]))\n",
    "plt.legend(title='Attitude towards Airbnb', loc='upper left', labels=['Negative', 'Normal', 'Positive'])\n",
    "sns.set(rc={\"lines.linewidth\": 1})\n",
    "plt.show()"
   ]
  },
  {
   "cell_type": "code",
   "execution_count": null,
   "metadata": {},
   "outputs": [],
   "source": [
    "# Next step: find out geo-distribution of users\n",
    "# Find where tweets come from according to their users' location\n",
    "from geopy.geocoders import Nominatim\n",
    "geolocator = Nominatim(user_agent=\"specify_your_app_name_here\")\n",
    "location = geolocator.geocode(\"Columbus, Oh\")\n",
    "print((location.latitude, location.longitude))\n",
    "location.address"
   ]
  },
  {
   "cell_type": "code",
   "execution_count": null,
   "metadata": {},
   "outputs": [],
   "source": []
  }
 ],
 "metadata": {
  "kernelspec": {
   "display_name": "Python 3",
   "language": "python",
   "name": "python3"
  },
  "language_info": {
   "codemirror_mode": {
    "name": "ipython",
    "version": 3
   },
   "file_extension": ".py",
   "mimetype": "text/x-python",
   "name": "python",
   "nbconvert_exporter": "python",
   "pygments_lexer": "ipython3",
   "version": "3.7.3"
  }
 },
 "nbformat": 4,
 "nbformat_minor": 2
}
